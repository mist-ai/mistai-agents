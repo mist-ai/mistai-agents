{
 "cells": [
  {
   "cell_type": "code",
   "execution_count": null,
   "metadata": {},
   "outputs": [
    {
     "name": "stdout",
     "output_type": "stream",
     "text": [
      "{'RECOMMENDATION': 'BUY', 'BUY': 12, 'SELL': 5, 'NEUTRAL': 9}\n",
      "{'Recommend.Other': 0.09090909090909091, 'Recommend.All': 0.24545454545454548, 'Recommend.MA': 0.4, 'RSI': 53.40192834121544, 'RSI[1]': 49.904840556206885, 'Stoch.K': 17.07317073170732, 'Stoch.D': 24.485947656679382, 'Stoch.K[1]': 9.206175872842538, 'Stoch.D[1]': 14.733381400048069, 'CCI20': -37.51412429378549, 'CCI20[1]': -55.50387596899288, 'ADX': 30.38129855912536, 'ADX+DI': 21.346793258363014, 'ADX-DI': 21.89632471620273, 'ADX+DI[1]': 21.296910852329038, 'ADX-DI[1]': 23.143988895978666, 'AO': 1.8455882352941018, 'AO[1]': 2.5602941176470466, 'Mom': -6, 'Mom[1]': -8, 'MACD.macd': 1.8010839185375573, 'MACD.signal': 2.9541076836383655, 'Rec.Stoch.RSI': 0, 'Stoch.RSI.K': 13.092672312665025, 'Rec.WR': 0, 'W.R': -68.29268292682927, 'Rec.BBPower': 1, 'BBPower': -2.526962901327664, 'Rec.UO': 0, 'UO': 48.299110720964855, 'close': 118, 'EMA5': 117.82736309331595, 'SMA5': 117.69999999999986, 'EMA10': 118.59360607839062, 'SMA10': 119.45000000000002, 'EMA20': 117.94964938825372, 'SMA20': 119.0124999999999, 'EMA30': 115.98456839300233, 'SMA30': 117.71666666666664, 'EMA50': 111.2256283408114, 'SMA50': 111.19500000000005, 'EMA100': 101.69676966610412, 'SMA100': 96.99549998000006, 'EMA200': 91.2579193117189, 'SMA200': 87.21224997999992, 'Rec.Ichimoku': 0, 'Ichimoku.BLine': 117.5, 'Rec.VWMA': -1, 'VWMA': 119.47036259321438, 'Rec.HullMA9': 1, 'HullMA9': 115.62962962962963, 'Pivot.M.Classic.S3': 88.5, 'Pivot.M.Classic.S2': 103.5, 'Pivot.M.Classic.S1': 112, 'Pivot.M.Classic.Middle': 118.5, 'Pivot.M.Classic.R1': 127, 'Pivot.M.Classic.R2': 133.5, 'Pivot.M.Classic.R3': 148.5, 'Pivot.M.Fibonacci.S3': 103.5, 'Pivot.M.Fibonacci.S2': 109.23, 'Pivot.M.Fibonacci.S1': 112.77, 'Pivot.M.Fibonacci.Middle': 118.5, 'Pivot.M.Fibonacci.R1': 124.23, 'Pivot.M.Fibonacci.R2': 127.77, 'Pivot.M.Fibonacci.R3': 133.5, 'Pivot.M.Camarilla.S3': 116.375, 'Pivot.M.Camarilla.S2': 117.75, 'Pivot.M.Camarilla.S1': 119.125, 'Pivot.M.Camarilla.Middle': 118.5, 'Pivot.M.Camarilla.R1': 121.875, 'Pivot.M.Camarilla.R2': 123.25, 'Pivot.M.Camarilla.R3': 124.625, 'Pivot.M.Woodie.S3': 97, 'Pivot.M.Woodie.S2': 103.5, 'Pivot.M.Woodie.S1': 112, 'Pivot.M.Woodie.Middle': 118.5, 'Pivot.M.Woodie.R1': 127, 'Pivot.M.Woodie.R2': 133.5, 'Pivot.M.Woodie.R3': 142, 'Pivot.M.Demark.S1': 115.25, 'Pivot.M.Demark.Middle': 120.125, 'Pivot.M.Demark.R1': 130.25, 'open': 117, 'P.SAR': 124.5941, 'BB.lower': 112.7785706612874, 'BB.upper': 125.2464293387124, 'AO[2]': 3.6338235294117425, 'volume': 569636, 'change': 1.2875536480686696, 'low': 116.25, 'high': 118.5}\n"
     ]
    }
   ],
   "source": [
    "from tradingview_ta import TA_Handler, Interval\n",
    "\n",
    "handler = TA_Handler(\n",
    "    symbol=\"SAMP.N0000\",\n",
    "    screener=\"srilanka\",\n",
    "    exchange=\"CSELK\",\n",
    "    interval=Interval.INTERVAL_1_DAY,\n",
    ")\n",
    "print(handler.get_analysis().summary)\n",
    "print(handler.get_analysis().indicators)\n"
   ]
  },
  {
   "cell_type": "code",
   "execution_count": 2,
   "metadata": {},
   "outputs": [
    {
     "name": "stderr",
     "output_type": "stream",
     "text": [
      "/Users/admin/Documents/Personal/fyp/mistai-agents/.venv/lib/python3.12/site-packages/tvDatafeed/main.py:136: SyntaxWarning: invalid escape sequence '\\['\n",
      "  out = re.search('\"s\":\\[(.+?)\\}\\]', raw_data).group(1)\n",
      "/Users/admin/Documents/Personal/fyp/mistai-agents/.venv/lib/python3.12/site-packages/tvDatafeed/main.py:142: SyntaxWarning: invalid escape sequence '\\['\n",
      "  xi = re.split(\"\\[|:|,|\\]\", xi)\n",
      "you are using nologin method, data you access may be limited\n"
     ]
    },
    {
     "name": "stdout",
     "output_type": "stream",
     "text": [
      "                               symbol        open        high         low  \\\n",
      "datetime                                                                    \n",
      "2020-11-20 09:30:00  CSELK:SAMP.N0000   40.660167   40.660167   40.334886   \n",
      "2020-11-23 09:30:00  CSELK:SAMP.N0000   40.660167   40.660167   40.367414   \n",
      "2020-11-24 09:30:00  CSELK:SAMP.N0000   40.464999   40.627639   40.302358   \n",
      "2020-11-25 09:30:00  CSELK:SAMP.N0000   40.399942   40.595111   40.334886   \n",
      "2020-11-26 09:30:00  CSELK:SAMP.N0000   40.399942   40.660167   40.334886   \n",
      "...                               ...         ...         ...         ...   \n",
      "2025-01-31 09:30:00  CSELK:SAMP.N0000  120.750000  121.500000  119.000000   \n",
      "2025-02-03 09:30:00  CSELK:SAMP.N0000  119.500000  121.000000  118.250000   \n",
      "2025-02-05 09:30:00  CSELK:SAMP.N0000  118.500000  119.000000  114.750000   \n",
      "2025-02-06 09:30:00  CSELK:SAMP.N0000  115.000000  118.000000  115.000000   \n",
      "2025-02-07 09:30:00  CSELK:SAMP.N0000  117.000000  118.500000  116.250000   \n",
      "\n",
      "                          close        volume  \n",
      "datetime                                       \n",
      "2020-11-20 09:30:00   40.399942  1.434051e+05  \n",
      "2020-11-23 09:30:00   40.497527  1.744090e+05  \n",
      "2020-11-24 09:30:00   40.432471  2.300532e+05  \n",
      "2020-11-25 09:30:00   40.399942  4.312697e+05  \n",
      "2020-11-26 09:30:00   40.432471  7.233800e+05  \n",
      "...                         ...           ...  \n",
      "2025-01-31 09:30:00  120.500000  8.168850e+05  \n",
      "2025-02-03 09:30:00  118.500000  6.204720e+05  \n",
      "2025-02-05 09:30:00  115.000000  1.164635e+06  \n",
      "2025-02-06 09:30:00  116.500000  1.066206e+06  \n",
      "2025-02-07 09:30:00  118.000000  5.696360e+05  \n",
      "\n",
      "[1000 rows x 6 columns]\n"
     ]
    }
   ],
   "source": [
    "from tvDatafeed import TvDatafeed, Interval\n",
    "\n",
    "tv = TvDatafeed()\n",
    "\n",
    "# index\n",
    "nifty_index_data = tv.get_hist(\n",
    "    symbol=\"SAMP.N0000\", exchange=\"CSELK\", interval=Interval.in_daily, n_bars=1000\n",
    ")\n",
    "print(nifty_index_data)"
   ]
  }
 ],
 "metadata": {
  "kernelspec": {
   "display_name": ".venv",
   "language": "python",
   "name": "python3"
  },
  "language_info": {
   "codemirror_mode": {
    "name": "ipython",
    "version": 3
   },
   "file_extension": ".py",
   "mimetype": "text/x-python",
   "name": "python",
   "nbconvert_exporter": "python",
   "pygments_lexer": "ipython3",
   "version": "3.12.0"
  }
 },
 "nbformat": 4,
 "nbformat_minor": 2
}
