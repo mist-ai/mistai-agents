{
 "cells": [
  {
   "cell_type": "code",
   "execution_count": 14,
   "metadata": {},
   "outputs": [
    {
     "name": "stdout",
     "output_type": "stream",
     "text": [
      "agent-3dff2f0a-0e19-4e76-b74b-56cc4ebd3c35\n",
      "Hi again! It's great to connect with you! What would you like to chat about?\n"
     ]
    }
   ],
   "source": [
    "import sys\n",
    "import os\n",
    "\n",
    "from letta_client import Letta, MessageCreate\n",
    "\n",
    "client = Letta(base_url=\"http://localhost:8283\")\n",
    "agent_id = list(filter(lambda agent: agent.name == \"ips-agent\", client.agents.list()))[\n",
    "    0\n",
    "].id\n",
    "\n",
    "print(agent_id)\n",
    "\n",
    "response = client.agents.messages.create(\n",
    "    agent_id=agent_id,\n",
    "    messages=[\n",
    "        MessageCreate(\n",
    "            role=\"user\",\n",
    "            content=\"can you say hi\",\n",
    "        )\n",
    "    ],\n",
    ")\n",
    "print(response.messages[len(response.messages) - 1].content)"
   ]
  }
 ],
 "metadata": {
  "kernelspec": {
   "display_name": ".venv",
   "language": "python",
   "name": "python3"
  },
  "language_info": {
   "codemirror_mode": {
    "name": "ipython",
    "version": 3
   },
   "file_extension": ".py",
   "mimetype": "text/x-python",
   "name": "python",
   "nbconvert_exporter": "python",
   "pygments_lexer": "ipython3",
   "version": "3.12.0"
  }
 },
 "nbformat": 4,
 "nbformat_minor": 2
}
